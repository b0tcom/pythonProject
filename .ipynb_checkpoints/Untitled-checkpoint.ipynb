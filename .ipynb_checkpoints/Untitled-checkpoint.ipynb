{
 "cells": [
  {
   "cell_type": "code",
   "execution_count": 2,
   "id": "18e8c764-40dc-454c-9253-b5816a12af4f",
   "metadata": {},
   "outputs": [
    {
     "ename": "OSError",
     "evalue": "[WinError 126] The specified module could not be found. Error loading \"C:\\Users\\dgran\\anaconda3\\Lib\\site-packages\\torch\\lib\\torch_python.dll\" or one of its dependencies.",
     "output_type": "error",
     "traceback": [
      "\u001b[1;31m---------------------------------------------------------------------------\u001b[0m",
      "\u001b[1;31mOSError\u001b[0m                                   Traceback (most recent call last)",
      "Cell \u001b[1;32mIn[2], line 4\u001b[0m\n\u001b[0;32m      2\u001b[0m \u001b[38;5;28;01mimport\u001b[39;00m \u001b[38;5;21;01mnumpy\u001b[39;00m \u001b[38;5;28;01mas\u001b[39;00m \u001b[38;5;21;01mnp\u001b[39;00m\n\u001b[0;32m      3\u001b[0m \u001b[38;5;28;01mimport\u001b[39;00m \u001b[38;5;21;01mpyautogui\u001b[39;00m\n\u001b[1;32m----> 4\u001b[0m \u001b[38;5;28;01mimport\u001b[39;00m \u001b[38;5;21;01mtorch\u001b[39;00m\n\u001b[0;32m      5\u001b[0m \u001b[38;5;28;01mfrom\u001b[39;00m \u001b[38;5;21;01mmss\u001b[39;00m \u001b[38;5;28;01mimport\u001b[39;00m mss\n\u001b[0;32m      6\u001b[0m \u001b[38;5;28;01mfrom\u001b[39;00m \u001b[38;5;21;01mPIL\u001b[39;00m \u001b[38;5;28;01mimport\u001b[39;00m Image\n",
      "File \u001b[1;32m~\\anaconda3\\Lib\\site-packages\\torch\\__init__.py:143\u001b[0m\n\u001b[0;32m    141\u001b[0m                 err \u001b[38;5;241m=\u001b[39m ctypes\u001b[38;5;241m.\u001b[39mWinError(ctypes\u001b[38;5;241m.\u001b[39mget_last_error())\n\u001b[0;32m    142\u001b[0m                 err\u001b[38;5;241m.\u001b[39mstrerror \u001b[38;5;241m+\u001b[39m\u001b[38;5;241m=\u001b[39m \u001b[38;5;124mf\u001b[39m\u001b[38;5;124m'\u001b[39m\u001b[38;5;124m Error loading \u001b[39m\u001b[38;5;124m\"\u001b[39m\u001b[38;5;132;01m{\u001b[39;00mdll\u001b[38;5;132;01m}\u001b[39;00m\u001b[38;5;124m\"\u001b[39m\u001b[38;5;124m or one of its dependencies.\u001b[39m\u001b[38;5;124m'\u001b[39m\n\u001b[1;32m--> 143\u001b[0m                 \u001b[38;5;28;01mraise\u001b[39;00m err\n\u001b[0;32m    145\u001b[0m     kernel32\u001b[38;5;241m.\u001b[39mSetErrorMode(prev_error_mode)\n\u001b[0;32m    148\u001b[0m \u001b[38;5;28;01mdef\u001b[39;00m \u001b[38;5;21m_preload_cuda_deps\u001b[39m(lib_folder, lib_name):\n",
      "\u001b[1;31mOSError\u001b[0m: [WinError 126] The specified module could not be found. Error loading \"C:\\Users\\dgran\\anaconda3\\Lib\\site-packages\\torch\\lib\\torch_python.dll\" or one of its dependencies."
     ]
    }
   ],
   "source": [
    "import cv2\n",
    "import numpy as np\n",
    "import pyautogui\n",
    "import torch\n",
    "from mss import mss\n",
    "from PIL import Image\n",
    "from ultralytics import YOLO\n",
    "\n",
    "# Define screen capture settings\n",
    "mon = {'top': 0, 'left': 0, 'width': 1920, 'height': 1080}\n",
    "sct = mss()\n",
    "\n",
    "# Check if CUDA is available\n",
    "device = torch.device(\"cuda\" if torch.cuda.is_available() else \"cpu\")\n",
    "\n",
    "# Load the YOLOv8n model\n",
    "model = YOLO('yolov8n.pt', device=device)\n",
    "model.eval()\n",
    "\n",
    "def capture_screen():\n",
    "    screenshot = sct.grab(mon)\n",
    "    img = Image.frombytes('RGB', (screenshot.width, screenshot.height), screenshot.rgb)\n",
    "    img = cv2.cvtColor(np.array(img), cv2.COLOR_RGB2BGR)\n",
    "    return img\n",
    "\n",
    "def selective_self_training(unlabeled_images, threshold):\n",
    "    # Implement the logic to add pseudo-labeled data to the training set\n",
    "    pass\n",
    "\n",
    "def retrain_model():\n",
    "    # Implement the retraining logic\n",
    "    pass\n",
    "\n",
    "def detect_and_target():\n",
    "    while True:\n",
    "        frame = capture_screen()\n",
    "        results = model(frame)\n",
    "        \n",
    "        for result in results.xyxy[0]:\n",
    "            if result[5] == 'enemy':  # Assuming 'enemy' is a class in the model\n",
    "                coords = result[:4]\n",
    "                target_and_shoot(coords)\n",
    "\n",
    "def target_and_shoot(coords):\n",
    "    x1, y1, x2, y2 = coords\n",
    "    center_x, center_y = (x1 + x2) // 2, (y1 + y2) // 2\n",
    "    pyautogui.moveTo(center_x, center_y)\n",
    "    pyautogui.click()\n",
    "\n",
    "if __name__ == \"__main__\":\n",
    "    # Define your unlabeled_images and threshold for selective self-training\n",
    "    unlabeled_images = []  # This should be a list of images\n",
    "    threshold = 0.5  # Example threshold value\n",
    "    \n",
    "    # Train the model with selective self-training\n",
    "    selective_self_training(unlabeled_images, threshold)\n",
    "    \n",
    "    # Start the detection and targeting loop\n",
    "    detect_and_target()\n"
   ]
  },
  {
   "cell_type": "code",
   "execution_count": null,
   "id": "eaa5bf75-789b-4566-812e-f443c6141330",
   "metadata": {},
   "outputs": [],
   "source": []
  },
  {
   "cell_type": "code",
   "execution_count": null,
   "id": "f46ac4ea-5037-4844-afbf-dce5ea8fe6a0",
   "metadata": {},
   "outputs": [],
   "source": []
  },
  {
   "cell_type": "code",
   "execution_count": null,
   "id": "b3c76421-c917-4611-9b97-45cdbaba815a",
   "metadata": {},
   "outputs": [],
   "source": []
  }
 ],
 "metadata": {
  "kernelspec": {
   "display_name": "Python 3 (ipykernel)",
   "language": "python",
   "name": "python3"
  },
  "language_info": {
   "codemirror_mode": {
    "name": "ipython",
    "version": 3
   },
   "file_extension": ".py",
   "mimetype": "text/x-python",
   "name": "python",
   "nbconvert_exporter": "python",
   "pygments_lexer": "ipython3",
   "version": "3.11.0"
  }
 },
 "nbformat": 4,
 "nbformat_minor": 5
}
